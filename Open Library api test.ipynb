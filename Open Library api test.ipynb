{
 "cells": [
  {
   "cell_type": "code",
   "execution_count": 14,
   "id": "02dd1a54",
   "metadata": {},
   "outputs": [],
   "source": [
    "import pandas as pd\n",
    "import json\n",
    "import urllib.request\n"
   ]
  },
  {
   "cell_type": "code",
   "execution_count": 172,
   "id": "eec98d02",
   "metadata": {},
   "outputs": [],
   "source": [
    "def get_subjects(ISBN):\n",
    "    #get book info from openlibrary\n",
    "    url = \"https://openlibrary.org/api/books?bibkeys=ISBN:\"+ISBN+\"&jscmd=data&format=json\"\n",
    "    with urllib.request.urlopen(url) as response:\n",
    "        book = response.read()\n",
    "    \n",
    "    data = json.loads(book)\n",
    "    \n",
    "    #extract openlibrary identifier\n",
    "    ol_id = list(data.values())[0].get(\"identifiers\").get(\"openlibrary\")[0]\n",
    "    \n",
    "    #get openlibrary info\n",
    "    new_url = \"http://openlibrary.org/api/get?key=/b/\" + str(ol_id)\n",
    "    with urllib.request.urlopen(new_url) as response:\n",
    "        ol_info = response.read()\n",
    "    \n",
    "    ol_info = str(ol_info)\n",
    "    \n",
    "    #extract subjects\n",
    "    a = ol_info.partition(\"subjects\\\": [\")[2]\n",
    "    b = a.partition(\"], \\\"title\")[0]\n",
    "    subject_list = b.split(\", \")\n",
    "    \n",
    "    return subject_list\n",
    "    "
   ]
  },
  {
   "cell_type": "code",
   "execution_count": 22,
   "id": "3faf441e",
   "metadata": {},
   "outputs": [],
   "source": [
    "with urllib.request.urlopen('https://openlibrary.org/api/books?bibkeys=ISBN:1860390323&jscmd=data&format=json') as response:\n",
    "   html = response.read()\n"
   ]
  },
  {
   "cell_type": "code",
   "execution_count": 19,
   "id": "2a52b5ee",
   "metadata": {
    "scrolled": true
   },
   "outputs": [],
   "source": [
    "html = str(html)"
   ]
  },
  {
   "cell_type": "code",
   "execution_count": 21,
   "id": "1977d3f4",
   "metadata": {},
   "outputs": [
    {
     "name": "stdout",
     "output_type": "stream",
     "text": [
      "b'{\"ISBN:1860390323\": {\"url\": \"https://openlibrary.org/books/OL12052499M/The_Amazing_Mr._Pleebus_(Orchard_Readalones)\", \"key\": \"/books/OL12052499M\", \"title\": \"The Amazing Mr. Pleebus (Orchard Readalones)\", \"authors\": [{\"url\": \"https://openlibrary.org/authors/OL3306530A/Nick_Abadzis\", \"name\": \"Nick Abadzis\"}], \"number_of_pages\": 64, \"weight\": \"2.7 ounces\", \"identifiers\": {\"goodreads\": [\"1731978\"], \"isbn_10\": [\"1860390323\"], \"isbn_13\": [\"9781860390326\"], \"oclc\": [\"35208816\"], \"openlibrary\": [\"OL12052499M\"]}, \"publishers\": [{\"name\": \"Orchard Books\"}], \"publish_date\": \"June 20, 1996\", \"cover\": {\"small\": \"https://covers.openlibrary.org/b/id/3013949-S.jpg\", \"medium\": \"https://covers.openlibrary.org/b/id/3013949-M.jpg\", \"large\": \"https://covers.openlibrary.org/b/id/3013949-L.jpg\"}}}'\n"
     ]
    }
   ],
   "source": [
    "print(html)"
   ]
  },
  {
   "cell_type": "code",
   "execution_count": 94,
   "id": "6d3c1a17",
   "metadata": {},
   "outputs": [],
   "source": [
    "data = json.loads(html)"
   ]
  },
  {
   "cell_type": "code",
   "execution_count": 26,
   "id": "a1c85610",
   "metadata": {},
   "outputs": [
    {
     "name": "stdout",
     "output_type": "stream",
     "text": [
      "{'ISBN:1860390323': {'url': 'https://openlibrary.org/books/OL12052499M/The_Amazing_Mr._Pleebus_(Orchard_Readalones)', 'key': '/books/OL12052499M', 'title': 'The Amazing Mr. Pleebus (Orchard Readalones)', 'authors': [{'url': 'https://openlibrary.org/authors/OL3306530A/Nick_Abadzis', 'name': 'Nick Abadzis'}], 'number_of_pages': 64, 'weight': '2.7 ounces', 'identifiers': {'goodreads': ['1731978'], 'isbn_10': ['1860390323'], 'isbn_13': ['9781860390326'], 'oclc': ['35208816'], 'openlibrary': ['OL12052499M']}, 'publishers': [{'name': 'Orchard Books'}], 'publish_date': 'June 20, 1996', 'cover': {'small': 'https://covers.openlibrary.org/b/id/3013949-S.jpg', 'medium': 'https://covers.openlibrary.org/b/id/3013949-M.jpg', 'large': 'https://covers.openlibrary.org/b/id/3013949-L.jpg'}}}\n"
     ]
    }
   ],
   "source": [
    "print(data)"
   ]
  },
  {
   "cell_type": "code",
   "execution_count": 54,
   "id": "e76e0a60",
   "metadata": {},
   "outputs": [],
   "source": [
    "a = list(data.values())\n"
   ]
  },
  {
   "cell_type": "code",
   "execution_count": 85,
   "id": "ede4e7b5",
   "metadata": {},
   "outputs": [],
   "source": [
    "ide = a[0].get(\"identifiers\").get(\"openlibrary\")[0]"
   ]
  },
  {
   "cell_type": "code",
   "execution_count": 86,
   "id": "6dd3f916",
   "metadata": {},
   "outputs": [
    {
     "data": {
      "text/plain": [
       "str"
      ]
     },
     "execution_count": 86,
     "metadata": {},
     "output_type": "execute_result"
    }
   ],
   "source": [
    "type(ide)"
   ]
  },
  {
   "cell_type": "code",
   "execution_count": 87,
   "id": "64c84c2a",
   "metadata": {},
   "outputs": [],
   "source": [
    "url = \"http://openlibrary.org/api/get?key=/b/\" + str(ide)"
   ]
  },
  {
   "cell_type": "code",
   "execution_count": 88,
   "id": "2a296429",
   "metadata": {},
   "outputs": [
    {
     "name": "stdout",
     "output_type": "stream",
     "text": [
      "http://openlibrary.org/api/get?key=/b/OL12052499M\n"
     ]
    }
   ],
   "source": [
    "print(url)"
   ]
  },
  {
   "cell_type": "code",
   "execution_count": 89,
   "id": "23a5c5b1",
   "metadata": {},
   "outputs": [],
   "source": [
    "with urllib.request.urlopen(url) as response:\n",
    "   second = response.read()"
   ]
  },
  {
   "cell_type": "code",
   "execution_count": 91,
   "id": "fac56f87",
   "metadata": {},
   "outputs": [],
   "source": [
    "second = str(second)"
   ]
  },
  {
   "cell_type": "code",
   "execution_count": 92,
   "id": "5726dd7a",
   "metadata": {},
   "outputs": [
    {
     "name": "stdout",
     "output_type": "stream",
     "text": [
      "b'{\"status\": \"ok\", \"result\": {\"publishers\": [\"Orchard Books\"], \"number_of_pages\": 64, \"weight\": \"2.7 ounces\", \"covers\": [3013949], \"physical_format\": \"Paperback\", \"last_modified\": {\"type\": \"/type/datetime\", \"value\": \"2011-04-26T18:10:16.998538\"}, \"latest_revision\": 6, \"key\": \"/books/OL12052499M\", \"authors\": [{\"key\": \"/authors/OL3306530A\"}], \"subjects\": [\"Cartoon art\", \"Comic strip fiction / graphic novels\"], \"title\": \"The Amazing Mr. Pleebus (Orchard Readalones)\", \"identifiers\": {\"goodreads\": [\"1731978\"]}, \"created\": {\"type\": \"/type/datetime\", \"value\": \"2008-04-30T20:50:18.033121\"}, \"isbn_13\": [\"9781860390326\"], \"isbn_10\": [\"1860390323\"], \"publish_date\": \"June 20, 1996\", \"oclc_numbers\": [\"35208816\"], \"works\": [{\"key\": \"/works/OL9250019W\"}], \"type\": {\"key\": \"/type/edition\"}, \"physical_dimensions\": \"7.8 x 5.1 x 0.2 inches\", \"revision\": 6}}'\n"
     ]
    }
   ],
   "source": [
    "print(second)"
   ]
  },
  {
   "cell_type": "code",
   "execution_count": 157,
   "id": "3a87a787",
   "metadata": {},
   "outputs": [],
   "source": [
    "b = second.partition(\"subjects\\\": [\")[2]"
   ]
  },
  {
   "cell_type": "code",
   "execution_count": 158,
   "id": "feac365c",
   "metadata": {},
   "outputs": [
    {
     "data": {
      "text/plain": [
       "'\"Cartoon art\", \"Comic strip fiction / graphic novels\"], \"title\": \"The Amazing Mr. Pleebus (Orchard Readalones)\", \"identifiers\": {\"goodreads\": [\"1731978\"]}, \"created\": {\"type\": \"/type/datetime\", \"value\": \"2008-04-30T20:50:18.033121\"}, \"isbn_13\": [\"9781860390326\"], \"isbn_10\": [\"1860390323\"], \"publish_date\": \"June 20, 1996\", \"oclc_numbers\": [\"35208816\"], \"works\": [{\"key\": \"/works/OL9250019W\"}], \"type\": {\"key\": \"/type/edition\"}, \"physical_dimensions\": \"7.8 x 5.1 x 0.2 inches\", \"revision\": 6}}\\''"
      ]
     },
     "execution_count": 158,
     "metadata": {},
     "output_type": "execute_result"
    }
   ],
   "source": [
    "b"
   ]
  },
  {
   "cell_type": "code",
   "execution_count": null,
   "id": "efb6bec5",
   "metadata": {},
   "outputs": [],
   "source": []
  },
  {
   "cell_type": "code",
   "execution_count": 159,
   "id": "bbc400eb",
   "metadata": {},
   "outputs": [],
   "source": [
    "c = b.partition(\"], \\\"title\")[0]"
   ]
  },
  {
   "cell_type": "code",
   "execution_count": 160,
   "id": "64a29613",
   "metadata": {},
   "outputs": [
    {
     "data": {
      "text/plain": [
       "'\"Cartoon art\", \"Comic strip fiction / graphic novels\"'"
      ]
     },
     "execution_count": 160,
     "metadata": {},
     "output_type": "execute_result"
    }
   ],
   "source": [
    "c"
   ]
  },
  {
   "cell_type": "code",
   "execution_count": 170,
   "id": "86553085",
   "metadata": {},
   "outputs": [],
   "source": [
    "d = c.split(\", \")"
   ]
  },
  {
   "cell_type": "code",
   "execution_count": 171,
   "id": "1df72f8f",
   "metadata": {},
   "outputs": [
    {
     "data": {
      "text/plain": [
       "['\"Cartoon art\"', '\"Comic strip fiction / graphic novels\"']"
      ]
     },
     "execution_count": 171,
     "metadata": {},
     "output_type": "execute_result"
    }
   ],
   "source": [
    "d"
   ]
  },
  {
   "cell_type": "code",
   "execution_count": null,
   "id": "ad3db1a5",
   "metadata": {},
   "outputs": [],
   "source": []
  }
 ],
 "metadata": {
  "kernelspec": {
   "display_name": "Python [conda env:metis] *",
   "language": "python",
   "name": "conda-env-metis-py"
  },
  "language_info": {
   "codemirror_mode": {
    "name": "ipython",
    "version": 3
   },
   "file_extension": ".py",
   "mimetype": "text/x-python",
   "name": "python",
   "nbconvert_exporter": "python",
   "pygments_lexer": "ipython3",
   "version": "3.9.7"
  }
 },
 "nbformat": 4,
 "nbformat_minor": 5
}
